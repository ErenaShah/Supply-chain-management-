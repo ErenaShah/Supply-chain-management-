{
  "cells": [
    {
      "cell_type": "code",
      "execution_count": null,
      "metadata": {
        "colab": {
          "background_save": true,
          "base_uri": "https://localhost:8080/"
        },
        "id": "0_o5bqEhubci",
        "outputId": "32b41fa0-01a0-4d14-c260-a052d3aa6d0b"
      },
      "outputs": [
        {
          "name": "stdout",
          "output_type": "stream",
          "text": [
            "\n",
            "Menu:\n",
            "1. Add Data\n",
            "2. Process Orders\n",
            "3. Exit\n",
            "\n",
            "Processing Supply Chain Operations...\n",
            "\n",
            "Step 1: Sorting Inventory by Priority\n",
            "No product data found.\n",
            "Sorted Inventory: []\n",
            "\n",
            "Step 2: Finding Minimum Spanning Tree\n",
            "\n",
            "Supply Chain Graph:\n",
            "WarehouseA -> WarehouseB (Weight: 10), WarehouseC (Weight: 15), WarehouseD (Weight: 25)\n",
            "WarehouseB -> WarehouseA (Weight: 10), WarehouseC (Weight: 20)\n",
            "WarehouseC -> WarehouseB (Weight: 20), WarehouseD (Weight: 30), WarehouseA (Weight: 15)\n",
            "WarehouseD -> WarehouseC (Weight: 30), WarehouseA (Weight: 25)\n",
            "\n",
            "Minimum Spanning Tree (Prim's Algorithm):\n",
            "WarehouseA - WarehouseB: 10\n",
            "WarehouseA - WarehouseC: 15\n",
            "WarehouseA - WarehouseD: 25\n",
            "\n",
            "Minimum Spanning Tree (Prim's Algorithm):\n",
            "WarehouseA - WarehouseB: 10\n",
            "WarehouseA - WarehouseC: 15\n",
            "WarehouseA - WarehouseD: 25\n",
            "\n",
            "Step 3: Warehouse Distribution Planning\n"
          ]
        }
      ],
      "source": [
        "import csv\n",
        "from collections import deque\n",
        "from datetime import datetime\n",
        "\n",
        "\n",
        "# A class to represent the graph for the supply chain network\n",
        "class SupplyChainGraph:\n",
        "    def __init__(self):\n",
        "        self.graph = {}\n",
        "\n",
        "    def add_edge(self, source, destination, weight):\n",
        "        if source not in self.graph:\n",
        "            self.graph[source] = []\n",
        "        if destination not in self.graph:\n",
        "            self.graph[destination] = []\n",
        "\n",
        "        self.graph[source].append((destination, weight))\n",
        "        self.graph[destination].append((source, weight))\n",
        "\n",
        "    def get_edges(self):\n",
        "        edges = []\n",
        "        for source in self.graph:\n",
        "            for destination, weight in self.graph[source]:\n",
        "                if (destination, source, weight) not in edges:  # Avoid duplicates\n",
        "                    edges.append((source, destination, weight))\n",
        "        return edges\n",
        "\n",
        "    def display_graph(self):\n",
        "        print(\"\\nSupply Chain Graph:\")\n",
        "        for node, neighbors in self.graph.items():\n",
        "            print(f\"{node} -> {', '.join([f'{dest} (Weight: {weight})' for dest, weight in neighbors])}\")\n",
        "\n",
        "    # Minimum Spanning Tree using Prim's Algorithm\n",
        "    def prims_algorithm(self, start_node):\n",
        "        mst = []\n",
        "        visited = set()\n",
        "        edges = [(0, start_node, None)]  # Format: (weight, current_node, previous_node)\n",
        "\n",
        "        while edges:\n",
        "            edges.sort()  # Sort by weight\n",
        "            weight, current, previous = edges.pop(0)  # Select the edge with the smallest weight\n",
        "\n",
        "            if current not in visited:\n",
        "                visited.add(current)\n",
        "                if previous:\n",
        "                    mst.append((previous, current, weight))\n",
        "\n",
        "                for neighbor, edge_weight in self.graph[current]:\n",
        "                    if neighbor not in visited:\n",
        "                        edges.append((edge_weight, neighbor, current))\n",
        "\n",
        "        print(\"\\nMinimum Spanning Tree (Prim's Algorithm):\")\n",
        "        for edge in mst:\n",
        "            print(f\"{edge[0]} - {edge[1]}: {edge[2]}\")\n",
        "        return mst\n",
        "\n",
        "\n",
        "# Merge Sort implementation for sorting inventory by priority\n",
        "def merge_sort_inventory(inventory):\n",
        "    if len(inventory) <= 1:\n",
        "        return inventory\n",
        "\n",
        "    mid = len(inventory) // 2\n",
        "    left_half = merge_sort_inventory(inventory[:mid])\n",
        "    right_half = merge_sort_inventory(inventory[mid:])\n",
        "\n",
        "    return merge(left_half, right_half)\n",
        "\n",
        "\n",
        "def merge(left, right):\n",
        "    sorted_list = []\n",
        "    while left and right:\n",
        "        if left[0][\"priority\"] > right[0][\"priority\"]:\n",
        "            sorted_list.append(left.pop(0))\n",
        "        else:\n",
        "            sorted_list.append(right.pop(0))\n",
        "    sorted_list.extend(left or right)\n",
        "    return sorted_list\n",
        "\n",
        "\n",
        "# Breadth-First Search (BFS) for warehouse distribution planning\n",
        "def bfs_distribution(graph, start_node):\n",
        "    queue = deque([(start_node, 0)])  # (current_node, level)\n",
        "    levels = {start_node: 0}\n",
        "    visited = {start_node}\n",
        "\n",
        "    while queue:\n",
        "        current, level = queue.popleft()\n",
        "        for neighbor, _ in graph.graph.get(current, []):\n",
        "            if neighbor not in visited:\n",
        "                visited.add(neighbor)\n",
        "                levels[neighbor] = level + 1\n",
        "                queue.append((neighbor, level + 1))\n",
        "\n",
        "    print(\"\\nWarehouse Distribution Levels (BFS):\")\n",
        "    for node, level in levels.items():\n",
        "        print(f\"{node}: Level {level}\")\n",
        "    return levels\n",
        "\n",
        "\n",
        "# Enhanced Supply Chain Management System\n",
        "class EnhancedSupplyChainManagement:\n",
        "    def __init__(self):\n",
        "        self.graph = SupplyChainGraph()\n",
        "\n",
        "    def load_data(self):\n",
        "        try:\n",
        "            with open(\"/content/warehouses (1).csv\", \"r\") as file:\n",
        "                reader = csv.DictReader(file)\n",
        "                for row in reader:\n",
        "                    self.graph.add_edge(row[\"Source\"], row[\"Destination\"], int(row[\"Weight\"]))\n",
        "        except FileNotFoundError:\n",
        "            print(\"No warehouse data found. Please add routes to start.\")\n",
        "\n",
        "    def add_data(self):\n",
        "        print(\"\\nChoose the data to add:\")\n",
        "        print(\"1. Orders\")\n",
        "        print(\"2. Products\")\n",
        "        print(\"3. Suppliers\")\n",
        "        print(\"4. Warehouse Routes\")\n",
        "        choice = input(\"Enter your choice: \")\n",
        "\n",
        "        if choice == \"1\":\n",
        "            self.add_order()\n",
        "        elif choice == \"2\":\n",
        "            self.add_product()\n",
        "        elif choice == \"3\":\n",
        "            self.add_supplier()\n",
        "        elif choice == \"4\":\n",
        "            self.add_warehouse_route()\n",
        "\n",
        "    def add_order(self):\n",
        "        order_id = input(\"Enter Order ID: \")\n",
        "        timestamp = datetime.now().isoformat()\n",
        "        with open(\"/content/orders (1).csv\", \"a\", newline=\"\") as file:\n",
        "            writer = csv.writer(file)\n",
        "            writer.writerow([order_id, timestamp])\n",
        "        print(\"Order added successfully.\")\n",
        "\n",
        "    def add_product(self):\n",
        "        product_id = input(\"Enter Product ID: \")\n",
        "        quantity = int(input(\"Enter Quantity: \"))\n",
        "        demand = int(input(\"Enter Demand: \"))\n",
        "        with open(\"/content/products (1).csv\", \"a\", newline=\"\") as file:\n",
        "            writer = csv.writer(file)\n",
        "            writer.writerow([product_id, quantity, demand])\n",
        "        print(\"Product added successfully.\")\n",
        "\n",
        "    def add_supplier(self):\n",
        "        supplier_id = input(\"Enter Supplier ID: \")\n",
        "        product_id = input(\"Enter Product ID: \")\n",
        "        with open(\"/content/suppliers (1).csv\", \"a\", newline=\"\") as file:\n",
        "            writer = csv.writer(file)\n",
        "            writer.writerow([supplier_id, product_id])\n",
        "        print(\"Supplier added successfully.\")\n",
        "\n",
        "    def add_warehouse_route(self):\n",
        "        source = input(\"Enter Source Warehouse: \")\n",
        "        destination = input(\"Enter Destination: \")\n",
        "        weight = int(input(\"Enter Route Weight (Distance/Cost): \"))\n",
        "        with open(\"warehouses.csv\", \"a\", newline=\"\") as file:\n",
        "            writer = csv.writer(file)\n",
        "            writer.writerow([source, destination, weight])\n",
        "        self.graph.add_edge(source, destination, weight)\n",
        "        print(\"Warehouse route added successfully.\")\n",
        "\n",
        "    def sort_inventory(self):\n",
        "        inventory = []\n",
        "        try:\n",
        "            with open(\"products.csv\", \"r\") as file:\n",
        "                reader = csv.DictReader(file)\n",
        "                for row in reader:\n",
        "                    priority = int(row[\"Quantity\"]) / (int(row[\"Demand\"]) + 1)\n",
        "                    inventory.append({\"id\": row[\"Product_ID\"], \"priority\": priority})\n",
        "        except FileNotFoundError:\n",
        "            print(\"No product data found.\")\n",
        "        return merge_sort_inventory(inventory)\n",
        "\n",
        "    def process_orders(self):\n",
        "        print(\"\\nProcessing Supply Chain Operations...\\n\")\n",
        "\n",
        "        print(\"Step 1: Sorting Inventory by Priority\")\n",
        "        sorted_inventory = self.sort_inventory()\n",
        "        print(\"Sorted Inventory:\", sorted_inventory)\n",
        "\n",
        "        print(\"\\nStep 2: Finding Minimum Spanning Tree\")\n",
        "        self.graph.display_graph()  # Print graph before MST\n",
        "        mst = self.graph.prims_algorithm(next(iter(self.graph.graph)))\n",
        "        print(\"\\nMinimum Spanning Tree (Prim's Algorithm):\")\n",
        "        for edge in mst:\n",
        "            print(f\"{edge[0]} - {edge[1]}: {edge[2]}\")\n",
        "\n",
        "        print(\"\\nStep 3: Warehouse Distribution Planning\")\n",
        "        source_warehouse = input(\"Enter the Source Warehouse: \")\n",
        "        bfs_distribution(self.graph, source_warehouse)\n",
        "\n",
        "\n",
        "if __name__ == \"__main__\":\n",
        "    scm = EnhancedSupplyChainManagement()\n",
        "    scm.load_data()\n",
        "\n",
        "    while True:\n",
        "        print(\"\\nMenu:\")\n",
        "        print(\"1. Add Data\")\n",
        "        print(\"2. Process Orders\")\n",
        "        print(\"3. Exit\")\n",
        "        choice = input(\"Enter your choice: \")\n",
        "\n",
        "        if choice == \"1\":\n",
        "            scm.add_data()\n",
        "        elif choice == \"2\":\n",
        "            scm.process_orders()\n",
        "        elif choice == \"3\":\n",
        "            break\n",
        "        else:\n",
        "            print(\"Invalid choice. Please try again.\")\n"
      ]
    },
    {
      "cell_type": "code",
      "source": [
        "!git config --global user.name \"Erena\"\n",
        "!git config --global user.email \"shaherena@gmail.com\"\n"
      ],
      "metadata": {
        "id": "xnXBQ5t95IEB"
      },
      "execution_count": null,
      "outputs": []
    },
    {
      "cell_type": "code",
      "source": [
        "!git --version\n"
      ],
      "metadata": {
        "colab": {
          "base_uri": "https://localhost:8080/"
        },
        "id": "EePbWZYR5VrV",
        "outputId": "dfc80294-fb88-43f5-885b-bf8557605cc2"
      },
      "execution_count": null,
      "outputs": [
        {
          "output_type": "stream",
          "name": "stdout",
          "text": [
            "git version 2.34.1\n"
          ]
        }
      ]
    },
    {
      "cell_type": "code",
      "source": [
        "!git clone https://github.com/ErenaShah/Supply-chain-management-.git"
      ],
      "metadata": {
        "colab": {
          "base_uri": "https://localhost:8080/"
        },
        "id": "b2uG_69t57_W",
        "outputId": "701a5f46-a922-413e-c37b-b52a15869f66"
      },
      "execution_count": null,
      "outputs": [
        {
          "output_type": "stream",
          "name": "stdout",
          "text": [
            "Cloning into 'Supply-chain-management-'...\n",
            "warning: You appear to have cloned an empty repository.\n"
          ]
        }
      ]
    },
    {
      "cell_type": "code",
      "source": [
        "!mv /https://colab.research.google.com/drive/1CIDkVjNLeORSId7d1wlolfrNS3iFn16P#scrollTo=0_o5bqEhubci/content/Supply-chain-management-/"
      ],
      "metadata": {
        "colab": {
          "base_uri": "https://localhost:8080/"
        },
        "id": "WEpLkIqq6NuO",
        "outputId": "7b16e95f-aaad-4bd3-afc6-a12ba1e9590c"
      },
      "execution_count": null,
      "outputs": [
        {
          "output_type": "stream",
          "name": "stdout",
          "text": [
            "mv: missing destination file operand after '/https://colab.research.google.com/drive/1CIDkVjNLeORSId7d1wlolfrNS3iFn16P#scrollTo=0_o5bqEhubci/content/Supply-chain-management-/'\n",
            "Try 'mv --help' for more information.\n"
          ]
        }
      ]
    },
    {
      "cell_type": "code",
      "source": [
        "from google.colab import drive\n",
        "drive.mount('/content/drive')\n"
      ],
      "metadata": {
        "colab": {
          "base_uri": "https://localhost:8080/"
        },
        "id": "ocdXrJgY6nXd",
        "outputId": "6fe6bb41-c86b-43bd-dbde-2b3b37bd79eb"
      },
      "execution_count": null,
      "outputs": [
        {
          "output_type": "stream",
          "name": "stdout",
          "text": [
            "Mounted at /content/drive\n"
          ]
        }
      ]
    },
    {
      "cell_type": "code",
      "source": [
        "!mv \"/content/drive/My Drive/Colab Notebooks/Untitled14.ipynb\" \"/content/Supply-chain-management-/\"\n"
      ],
      "metadata": {
        "colab": {
          "base_uri": "https://localhost:8080/"
        },
        "id": "iJh5xyNM78r4",
        "outputId": "854b9491-7fce-4c8c-f9fb-6d596c907a59"
      },
      "execution_count": 2,
      "outputs": [
        {
          "output_type": "stream",
          "name": "stdout",
          "text": [
            "mv: cannot stat '/content/drive/My Drive/Colab Notebooks/Untitled14.ipynb': No such file or directory\n"
          ]
        }
      ]
    },
    {
      "cell_type": "code",
      "source": [],
      "metadata": {
        "id": "h96E7S6jWt8Z"
      },
      "execution_count": null,
      "outputs": []
    }
  ],
  "metadata": {
    "colab": {
      "provenance": []
    },
    "kernelspec": {
      "display_name": "Python 3",
      "name": "python3"
    },
    "language_info": {
      "name": "python"
    }
  },
  "nbformat": 4,
  "nbformat_minor": 0
}